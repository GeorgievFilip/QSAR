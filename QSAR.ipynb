{
 "cells": [
  {
   "cell_type": "markdown",
   "metadata": {},
   "source": [
    "# Usage of physico-chemical descriptors for creating a QSAR model for a series of triazole derivates"
   ]
  },
  {
   "cell_type": "markdown",
   "metadata": {},
   "source": [
    "QSAR techniques are used in this project for obtaining a model between the experimental values of the retention constant (Rmo) for a series of substituted triazoline-3-thiones and a set of descriptors.\n",
    "The validation of the given model is verified by the coefficient of determination -  R-squared and additional statistical parameters such as PRESS, SSY and Q-squared."
   ]
  },
  {
   "cell_type": "markdown",
   "metadata": {},
   "source": [
    "[The quantitative structure–activity relationship (QSAR)](https://en.wikipedia.org/wiki/Quantitative_structure%E2%80%93activity_relationship) is based on the assumption that the activity of a molecule is related to its structure, so that similar molecules have similar activities. QSAR models are regression or classification models used in the chemical and biological sciences and engineering."
   ]
  },
  {
   "cell_type": "markdown",
   "metadata": {},
   "source": [
    "The series of disubstituted 1,2,4-triazoline-3-thiones which we will explore are shown below:\n",
    "![Image of Yaktocat](https://i.imgur.com/JOMRdiy.png)\n",
    "\n",
    "These compounds offer characteristics which make them attractive in the drug creating research."
   ]
  },
  {
   "cell_type": "markdown",
   "metadata": {},
   "source": [
    "Their chromatographic attributes were determined by S. M. Petrović, E. Lončar, N. U. Perišić- Janjić, M. Lazarević - “Normal and reversed-phase thin-layer chromatography of thiourea derivatives“\n",
    "\n",
    "The values for the retention constants for each given compound are shown in the dataset further below."
   ]
  },
  {
   "cell_type": "markdown",
   "metadata": {},
   "source": [
    "### 1) Exploring the dataset"
   ]
  },
  {
   "cell_type": "markdown",
   "metadata": {},
   "source": [
    "Let's start the project by importing the necessary libraries."
   ]
  },
  {
   "cell_type": "code",
   "execution_count": 2,
   "metadata": {},
   "outputs": [],
   "source": [
    "import pandas as pd\n",
    "import numpy as np\n",
    "import statsmodels.formula.api as smf\n",
    "from statsmodels.formula.api import ols\n",
    "import matplotlib.pyplot as plt"
   ]
  },
  {
   "cell_type": "markdown",
   "metadata": {},
   "source": [
    "Why we use these libraries:\n",
    "* [pandas](https://pandas.pydata.org/) is a software library written for data manipulation and analysis. In particular, it offers data structures and operations for manipulating numerical tables and time series. \n",
    "* [numpy](http://www.numpy.org/) is a package in python that is used for scientific computing. It supports higher-order mathematical functions, higher dimensional arrays, matrices and other data structures.\n",
    "* [statsmodels](https://www.statsmodels.org/stable/index.html) is a Python package that allows users to explore data, estimate statistical models, and perform statistical tests. [statsmodels.formula.api](http://www.statsmodels.org/dev/example_formulas.html) allows users to fit statistical models using R-style formulas.\n",
    "* [matplotlib](https://matplotlib.org/) is a plotting library for the Python programming language and its numerical mathematics extension NumPy."
   ]
  },
  {
   "cell_type": "markdown",
   "metadata": {},
   "source": [
    "We load the dataset which we name 'data':"
   ]
  },
  {
   "cell_type": "code",
   "execution_count": 3,
   "metadata": {},
   "outputs": [],
   "source": [
    "data = pd.read_excel('...deskriptori.xlsx')"
   ]
  },
  {
   "cell_type": "code",
   "execution_count": 3,
   "metadata": {},
   "outputs": [
    {
     "data": {
      "text/html": [
       "<div>\n",
       "<style scoped>\n",
       "    .dataframe tbody tr th:only-of-type {\n",
       "        vertical-align: middle;\n",
       "    }\n",
       "\n",
       "    .dataframe tbody tr th {\n",
       "        vertical-align: top;\n",
       "    }\n",
       "\n",
       "    .dataframe thead th {\n",
       "        text-align: right;\n",
       "    }\n",
       "</style>\n",
       "<table border=\"1\" class=\"dataframe\">\n",
       "  <thead>\n",
       "    <tr style=\"text-align: right;\">\n",
       "      <th></th>\n",
       "      <th>Rmo</th>\n",
       "      <th>miLogP</th>\n",
       "      <th>TPSA</th>\n",
       "      <th>natoms</th>\n",
       "      <th>MW</th>\n",
       "      <th>nON</th>\n",
       "      <th>nOHNH</th>\n",
       "      <th>nrotb</th>\n",
       "      <th>volumen</th>\n",
       "      <th>GPCRL</th>\n",
       "      <th>ICM</th>\n",
       "      <th>KI</th>\n",
       "      <th>NRL</th>\n",
       "      <th>PI</th>\n",
       "      <th>EI</th>\n",
       "    </tr>\n",
       "  </thead>\n",
       "  <tbody>\n",
       "    <tr>\n",
       "      <th>0</th>\n",
       "      <td>0.54</td>\n",
       "      <td>2.569</td>\n",
       "      <td>53.845</td>\n",
       "      <td>19</td>\n",
       "      <td>269.329</td>\n",
       "      <td>4</td>\n",
       "      <td>2</td>\n",
       "      <td>2</td>\n",
       "      <td>228.936</td>\n",
       "      <td>-0.6795</td>\n",
       "      <td>-0.6984</td>\n",
       "      <td>-0.9117</td>\n",
       "      <td>-0.9377</td>\n",
       "      <td>-0.9869</td>\n",
       "      <td>-0.5908</td>\n",
       "    </tr>\n",
       "    <tr>\n",
       "      <th>1</th>\n",
       "      <td>0.55</td>\n",
       "      <td>2.333</td>\n",
       "      <td>53.845</td>\n",
       "      <td>19</td>\n",
       "      <td>269.329</td>\n",
       "      <td>4</td>\n",
       "      <td>2</td>\n",
       "      <td>2</td>\n",
       "      <td>228.936</td>\n",
       "      <td>-0.6313</td>\n",
       "      <td>-0.6001</td>\n",
       "      <td>-0.8166</td>\n",
       "      <td>-0.8332</td>\n",
       "      <td>-0.9792</td>\n",
       "      <td>-0.5520</td>\n",
       "    </tr>\n",
       "    <tr>\n",
       "      <th>2</th>\n",
       "      <td>0.57</td>\n",
       "      <td>2.357</td>\n",
       "      <td>53.845</td>\n",
       "      <td>19</td>\n",
       "      <td>269.329</td>\n",
       "      <td>4</td>\n",
       "      <td>2</td>\n",
       "      <td>2</td>\n",
       "      <td>228.936</td>\n",
       "      <td>-0.6244</td>\n",
       "      <td>-0.6043</td>\n",
       "      <td>-0.8509</td>\n",
       "      <td>-0.8460</td>\n",
       "      <td>-0.9590</td>\n",
       "      <td>-0.5659</td>\n",
       "    </tr>\n",
       "    <tr>\n",
       "      <th>3</th>\n",
       "      <td>0.15</td>\n",
       "      <td>3.223</td>\n",
       "      <td>53.845</td>\n",
       "      <td>20</td>\n",
       "      <td>303.774</td>\n",
       "      <td>4</td>\n",
       "      <td>2</td>\n",
       "      <td>2</td>\n",
       "      <td>242.472</td>\n",
       "      <td>-0.6170</td>\n",
       "      <td>-0.6916</td>\n",
       "      <td>-0.8642</td>\n",
       "      <td>-0.8631</td>\n",
       "      <td>-0.9674</td>\n",
       "      <td>-0.5902</td>\n",
       "    </tr>\n",
       "    <tr>\n",
       "      <th>4</th>\n",
       "      <td>0.58</td>\n",
       "      <td>2.307</td>\n",
       "      <td>53.845</td>\n",
       "      <td>20</td>\n",
       "      <td>283.356</td>\n",
       "      <td>4</td>\n",
       "      <td>2</td>\n",
       "      <td>3</td>\n",
       "      <td>245.738</td>\n",
       "      <td>-0.4798</td>\n",
       "      <td>-0.6058</td>\n",
       "      <td>-0.6744</td>\n",
       "      <td>-0.6726</td>\n",
       "      <td>-0.6887</td>\n",
       "      <td>-0.5001</td>\n",
       "    </tr>\n",
       "    <tr>\n",
       "      <th>5</th>\n",
       "      <td>0.30</td>\n",
       "      <td>3.219</td>\n",
       "      <td>42.851</td>\n",
       "      <td>22</td>\n",
       "      <td>311.410</td>\n",
       "      <td>4</td>\n",
       "      <td>1</td>\n",
       "      <td>5</td>\n",
       "      <td>280.068</td>\n",
       "      <td>-0.5275</td>\n",
       "      <td>-0.7114</td>\n",
       "      <td>-0.7122</td>\n",
       "      <td>-0.6965</td>\n",
       "      <td>-0.6660</td>\n",
       "      <td>-0.6133</td>\n",
       "    </tr>\n",
       "    <tr>\n",
       "      <th>6</th>\n",
       "      <td>0.45</td>\n",
       "      <td>2.418</td>\n",
       "      <td>61.319</td>\n",
       "      <td>25</td>\n",
       "      <td>357.435</td>\n",
       "      <td>6</td>\n",
       "      <td>1</td>\n",
       "      <td>6</td>\n",
       "      <td>314.357</td>\n",
       "      <td>-0.4296</td>\n",
       "      <td>-0.6325</td>\n",
       "      <td>-0.5475</td>\n",
       "      <td>-0.7087</td>\n",
       "      <td>-0.5603</td>\n",
       "      <td>-0.5058</td>\n",
       "    </tr>\n",
       "    <tr>\n",
       "      <th>7</th>\n",
       "      <td>0.40</td>\n",
       "      <td>2.732</td>\n",
       "      <td>53.845</td>\n",
       "      <td>17</td>\n",
       "      <td>249.339</td>\n",
       "      <td>4</td>\n",
       "      <td>2</td>\n",
       "      <td>4</td>\n",
       "      <td>224.494</td>\n",
       "      <td>-0.8570</td>\n",
       "      <td>-0.9854</td>\n",
       "      <td>-1.2031</td>\n",
       "      <td>-1.0406</td>\n",
       "      <td>-1.1151</td>\n",
       "      <td>-0.5630</td>\n",
       "    </tr>\n",
       "    <tr>\n",
       "      <th>8</th>\n",
       "      <td>0.42</td>\n",
       "      <td>2.496</td>\n",
       "      <td>53.845</td>\n",
       "      <td>17</td>\n",
       "      <td>249.339</td>\n",
       "      <td>4</td>\n",
       "      <td>2</td>\n",
       "      <td>4</td>\n",
       "      <td>224.494</td>\n",
       "      <td>-0.8031</td>\n",
       "      <td>-0.8755</td>\n",
       "      <td>-1.0968</td>\n",
       "      <td>-0.9239</td>\n",
       "      <td>-1.1065</td>\n",
       "      <td>-0.5195</td>\n",
       "    </tr>\n",
       "    <tr>\n",
       "      <th>9</th>\n",
       "      <td>0.46</td>\n",
       "      <td>2.520</td>\n",
       "      <td>53.845</td>\n",
       "      <td>17</td>\n",
       "      <td>249.339</td>\n",
       "      <td>4</td>\n",
       "      <td>2</td>\n",
       "      <td>4</td>\n",
       "      <td>224.494</td>\n",
       "      <td>-0.7990</td>\n",
       "      <td>-0.8801</td>\n",
       "      <td>-1.1343</td>\n",
       "      <td>-0.9311</td>\n",
       "      <td>-1.0866</td>\n",
       "      <td>-0.5326</td>\n",
       "    </tr>\n",
       "    <tr>\n",
       "      <th>10</th>\n",
       "      <td>0.22</td>\n",
       "      <td>3.383</td>\n",
       "      <td>42.851</td>\n",
       "      <td>20</td>\n",
       "      <td>291.420</td>\n",
       "      <td>4</td>\n",
       "      <td>1</td>\n",
       "      <td>7</td>\n",
       "      <td>275.626</td>\n",
       "      <td>-0.5489</td>\n",
       "      <td>-0.8475</td>\n",
       "      <td>-0.8765</td>\n",
       "      <td>-0.8546</td>\n",
       "      <td>-0.8183</td>\n",
       "      <td>-0.5750</td>\n",
       "    </tr>\n",
       "  </tbody>\n",
       "</table>\n",
       "</div>"
      ],
      "text/plain": [
       "     Rmo  miLogP    TPSA  natoms       MW  nON  nOHNH  nrotb  volumen   GPCRL  \\\n",
       "0   0.54   2.569  53.845      19  269.329    4      2      2  228.936 -0.6795   \n",
       "1   0.55   2.333  53.845      19  269.329    4      2      2  228.936 -0.6313   \n",
       "2   0.57   2.357  53.845      19  269.329    4      2      2  228.936 -0.6244   \n",
       "3   0.15   3.223  53.845      20  303.774    4      2      2  242.472 -0.6170   \n",
       "4   0.58   2.307  53.845      20  283.356    4      2      3  245.738 -0.4798   \n",
       "5   0.30   3.219  42.851      22  311.410    4      1      5  280.068 -0.5275   \n",
       "6   0.45   2.418  61.319      25  357.435    6      1      6  314.357 -0.4296   \n",
       "7   0.40   2.732  53.845      17  249.339    4      2      4  224.494 -0.8570   \n",
       "8   0.42   2.496  53.845      17  249.339    4      2      4  224.494 -0.8031   \n",
       "9   0.46   2.520  53.845      17  249.339    4      2      4  224.494 -0.7990   \n",
       "10  0.22   3.383  42.851      20  291.420    4      1      7  275.626 -0.5489   \n",
       "\n",
       "       ICM      KI     NRL      PI      EI  \n",
       "0  -0.6984 -0.9117 -0.9377 -0.9869 -0.5908  \n",
       "1  -0.6001 -0.8166 -0.8332 -0.9792 -0.5520  \n",
       "2  -0.6043 -0.8509 -0.8460 -0.9590 -0.5659  \n",
       "3  -0.6916 -0.8642 -0.8631 -0.9674 -0.5902  \n",
       "4  -0.6058 -0.6744 -0.6726 -0.6887 -0.5001  \n",
       "5  -0.7114 -0.7122 -0.6965 -0.6660 -0.6133  \n",
       "6  -0.6325 -0.5475 -0.7087 -0.5603 -0.5058  \n",
       "7  -0.9854 -1.2031 -1.0406 -1.1151 -0.5630  \n",
       "8  -0.8755 -1.0968 -0.9239 -1.1065 -0.5195  \n",
       "9  -0.8801 -1.1343 -0.9311 -1.0866 -0.5326  \n",
       "10 -0.8475 -0.8765 -0.8546 -0.8183 -0.5750  "
      ]
     },
     "execution_count": 3,
     "metadata": {},
     "output_type": "execute_result"
    }
   ],
   "source": [
    "data"
   ]
  },
  {
   "cell_type": "markdown",
   "metadata": {},
   "source": [
    "Desriptors in table include:\n",
    "* Rmo - Retention constant experimental values\n",
    "* [miLogP](http://www.sirius-analytical.com/science/log-p/log-p-definitions) - Octanol-water partition coefficient logP is used in QSAR studies and rational drug design as a measure of molecular hydrophobicity. Hydrophobicity affects drug absorption, bioavailability, hydrophobic drug-receptor interactions, metabolism of molecules, as well as their toxicity. LogP has become also a key parameter in studies of the environmental fate of chemicals. \n",
    "* [TPSA](http://www.molinspiration.com/services/psa.html) - Topological polar surface area (TPSA) of a molecule is defined as the surface sum over all polar atoms, primarily oxygen and nitrogen, also including their attached hydrogen atoms.\n",
    "* natoms - Number of atoms\n",
    "* [MW](https://en.wikipedia.org/wiki/Molecular_mass) - Molecular weight is the mass of a molecule. It is calculated as the sum of the atomic weights of each constituent element multiplied by the number of atoms of that element in the molecular formula\n",
    "* [nON](https://en.wikipedia.org/wiki/Hydrogen_bond) - Hydrogen bonds acceptors are the electronegative atom in a hydrogen bond, not covalently attached to the hydrogen \n",
    "* [nOHNH](https://en.wikipedia.org/wiki/Hydrogen_bond) - Hydrogen bonds donors are the electronegative atom in a hydrogen bond, covalently attached to the hydrogen\n",
    "* [nrotb](http://www.asteris-app.com/technical-info/core-properties/no-rotatable-bonds.htm) - Number of rotatable bonds is the number of bonds which allow free rotation around themselves. These are defined as any single bond, not in a ring, bound to a nonterminal heavy atom. Excluded from the count are amide C–N bonds because of their high rotational energy barrier\n",
    "* [volumen](http://www.molinspiration.com/services/volume.html) - Molar volume, is the volume occupied by one mole of a substance (chemical element or chemical compound) at a given temperature and pressure\n",
    "* [GPCRL](https://en.wikipedia.org/wiki/G_protein%E2%80%93coupled_receptor) - GPCR ligand, G protein–coupled receptors (GPCRs), constitute a large protein family of receptors that detect molecules outside the cell and activate internal signal transduction pathways and, ultimately, cellular responses\n",
    "* [ICM](https://en.wikipedia.org/wiki/Channel_modulator) - Ion Channel Modulators are essentially pore-forming membrane proteins where some drugs may directly or indirectly interact leading to a change in action potentials and other electrical signals across the membrane. \n",
    "* [KI](https://en.wikipedia.org/wiki/Protein_kinase_inhibitor) - A protein kinase inhibitor is a type of enzyme inhibitor that can block the action of protein kinases.\n",
    "* [NPRL](https://en.wikipedia.org/wiki/Nuclear_receptor) - Nuclear receptors are a class of proteins found within cells that are responsible for sensing steroid and thyroid hormones and certain other molecules. In response, these receptors work with other proteins to regulate the expression of specific genes, thereby controlling the development, homeostasis, and metabolism of the organism.\n",
    "* [PI](https://en.wikipedia.org/wiki/Protease_inhibitor_(biology)) - In biology and biochemistry, protease inhibitors are molecules that inhibit the function of proteases (enzymes that aid the breakdown of proteins). Many naturally occurring protease inhibitors are proteins.\n",
    "* [EI](https://en.wikipedia.org/wiki/Enzyme_inhibitor) - An enzyme inhibitor is a molecule that binds to an enzyme and decreases its activity. Since blocking an enzyme's activity can kill a pathogen or correct a metabolic imbalance, many drugs are enzyme inhibitors. \n",
    "\n",
    "Each row represents the descriptors' values for each compound labeled as 0-10 respectively.\n",
    "\n",
    "The descriptors are calculated with [Molinspiration Cheminformatics](http://www.molinspiration.com/cgi-bin/properties) - Calculation of Molecular Properties and Bioactivity Score"
   ]
  },
  {
   "cell_type": "code",
   "execution_count": 22,
   "metadata": {},
   "outputs": [
    {
     "data": {
      "text/plain": [
       "(11, 20)"
      ]
     },
     "execution_count": 22,
     "metadata": {},
     "output_type": "execute_result"
    }
   ],
   "source": [
    "# data.shape will show us the number of rows and columns in the dataset\n",
    "data.shape"
   ]
  },
  {
   "cell_type": "markdown",
   "metadata": {},
   "source": [
    "Additional information can be displayed"
   ]
  },
  {
   "cell_type": "code",
   "execution_count": 5,
   "metadata": {},
   "outputs": [
    {
     "data": {
      "text/html": [
       "<div>\n",
       "<style scoped>\n",
       "    .dataframe tbody tr th:only-of-type {\n",
       "        vertical-align: middle;\n",
       "    }\n",
       "\n",
       "    .dataframe tbody tr th {\n",
       "        vertical-align: top;\n",
       "    }\n",
       "\n",
       "    .dataframe thead th {\n",
       "        text-align: right;\n",
       "    }\n",
       "</style>\n",
       "<table border=\"1\" class=\"dataframe\">\n",
       "  <thead>\n",
       "    <tr style=\"text-align: right;\">\n",
       "      <th></th>\n",
       "      <th>Rmo</th>\n",
       "      <th>miLogP</th>\n",
       "      <th>TPSA</th>\n",
       "      <th>natoms</th>\n",
       "      <th>MW</th>\n",
       "      <th>nON</th>\n",
       "      <th>nOHNH</th>\n",
       "      <th>nrotb</th>\n",
       "      <th>volumen</th>\n",
       "      <th>GPCRL</th>\n",
       "      <th>ICM</th>\n",
       "      <th>KI</th>\n",
       "      <th>NRL</th>\n",
       "      <th>PI</th>\n",
       "      <th>EI</th>\n",
       "    </tr>\n",
       "  </thead>\n",
       "  <tbody>\n",
       "    <tr>\n",
       "      <th>count</th>\n",
       "      <td>11.000000</td>\n",
       "      <td>11.00000</td>\n",
       "      <td>11.000000</td>\n",
       "      <td>11.000000</td>\n",
       "      <td>11.000000</td>\n",
       "      <td>11.000000</td>\n",
       "      <td>11.000000</td>\n",
       "      <td>11.000000</td>\n",
       "      <td>11.000000</td>\n",
       "      <td>11.00000</td>\n",
       "      <td>11.000000</td>\n",
       "      <td>11.000000</td>\n",
       "      <td>11.000000</td>\n",
       "      <td>11.000000</td>\n",
       "      <td>11.000000</td>\n",
       "    </tr>\n",
       "    <tr>\n",
       "      <th>mean</th>\n",
       "      <td>0.421818</td>\n",
       "      <td>2.68700</td>\n",
       "      <td>52.525545</td>\n",
       "      <td>19.545455</td>\n",
       "      <td>282.127182</td>\n",
       "      <td>4.181818</td>\n",
       "      <td>1.727273</td>\n",
       "      <td>3.727273</td>\n",
       "      <td>247.141000</td>\n",
       "      <td>-0.63610</td>\n",
       "      <td>-0.739327</td>\n",
       "      <td>-0.880745</td>\n",
       "      <td>-0.846182</td>\n",
       "      <td>-0.903091</td>\n",
       "      <td>-0.555291</td>\n",
       "    </tr>\n",
       "    <tr>\n",
       "      <th>std</th>\n",
       "      <td>0.144763</td>\n",
       "      <td>0.39825</td>\n",
       "      <td>5.276800</td>\n",
       "      <td>2.381749</td>\n",
       "      <td>32.866057</td>\n",
       "      <td>0.603023</td>\n",
       "      <td>0.467099</td>\n",
       "      <td>1.737292</td>\n",
       "      <td>29.950404</td>\n",
       "      <td>0.13860</td>\n",
       "      <td>0.134983</td>\n",
       "      <td>0.200792</td>\n",
       "      <td>0.114624</td>\n",
       "      <td>0.191559</td>\n",
       "      <td>0.037023</td>\n",
       "    </tr>\n",
       "    <tr>\n",
       "      <th>min</th>\n",
       "      <td>0.150000</td>\n",
       "      <td>2.30700</td>\n",
       "      <td>42.851000</td>\n",
       "      <td>17.000000</td>\n",
       "      <td>249.339000</td>\n",
       "      <td>4.000000</td>\n",
       "      <td>1.000000</td>\n",
       "      <td>2.000000</td>\n",
       "      <td>224.494000</td>\n",
       "      <td>-0.85700</td>\n",
       "      <td>-0.985400</td>\n",
       "      <td>-1.203100</td>\n",
       "      <td>-1.040600</td>\n",
       "      <td>-1.115100</td>\n",
       "      <td>-0.613300</td>\n",
       "    </tr>\n",
       "    <tr>\n",
       "      <th>25%</th>\n",
       "      <td>0.350000</td>\n",
       "      <td>2.38750</td>\n",
       "      <td>53.845000</td>\n",
       "      <td>18.000000</td>\n",
       "      <td>259.334000</td>\n",
       "      <td>4.000000</td>\n",
       "      <td>1.500000</td>\n",
       "      <td>2.000000</td>\n",
       "      <td>226.715000</td>\n",
       "      <td>-0.73925</td>\n",
       "      <td>-0.861500</td>\n",
       "      <td>-1.004250</td>\n",
       "      <td>-0.927500</td>\n",
       "      <td>-1.036750</td>\n",
       "      <td>-0.582600</td>\n",
       "    </tr>\n",
       "    <tr>\n",
       "      <th>50%</th>\n",
       "      <td>0.450000</td>\n",
       "      <td>2.52000</td>\n",
       "      <td>53.845000</td>\n",
       "      <td>19.000000</td>\n",
       "      <td>269.329000</td>\n",
       "      <td>4.000000</td>\n",
       "      <td>2.000000</td>\n",
       "      <td>4.000000</td>\n",
       "      <td>228.936000</td>\n",
       "      <td>-0.62440</td>\n",
       "      <td>-0.698400</td>\n",
       "      <td>-0.864200</td>\n",
       "      <td>-0.854600</td>\n",
       "      <td>-0.967400</td>\n",
       "      <td>-0.563000</td>\n",
       "    </tr>\n",
       "    <tr>\n",
       "      <th>75%</th>\n",
       "      <td>0.545000</td>\n",
       "      <td>2.97550</td>\n",
       "      <td>53.845000</td>\n",
       "      <td>20.000000</td>\n",
       "      <td>297.597000</td>\n",
       "      <td>4.000000</td>\n",
       "      <td>2.000000</td>\n",
       "      <td>4.500000</td>\n",
       "      <td>260.682000</td>\n",
       "      <td>-0.53820</td>\n",
       "      <td>-0.619150</td>\n",
       "      <td>-0.764400</td>\n",
       "      <td>-0.770950</td>\n",
       "      <td>-0.753500</td>\n",
       "      <td>-0.526050</td>\n",
       "    </tr>\n",
       "    <tr>\n",
       "      <th>max</th>\n",
       "      <td>0.580000</td>\n",
       "      <td>3.38300</td>\n",
       "      <td>61.319000</td>\n",
       "      <td>25.000000</td>\n",
       "      <td>357.435000</td>\n",
       "      <td>6.000000</td>\n",
       "      <td>2.000000</td>\n",
       "      <td>7.000000</td>\n",
       "      <td>314.357000</td>\n",
       "      <td>-0.42960</td>\n",
       "      <td>-0.600100</td>\n",
       "      <td>-0.547500</td>\n",
       "      <td>-0.672600</td>\n",
       "      <td>-0.560300</td>\n",
       "      <td>-0.500100</td>\n",
       "    </tr>\n",
       "  </tbody>\n",
       "</table>\n",
       "</div>"
      ],
      "text/plain": [
       "             Rmo    miLogP       TPSA     natoms          MW        nON  \\\n",
       "count  11.000000  11.00000  11.000000  11.000000   11.000000  11.000000   \n",
       "mean    0.421818   2.68700  52.525545  19.545455  282.127182   4.181818   \n",
       "std     0.144763   0.39825   5.276800   2.381749   32.866057   0.603023   \n",
       "min     0.150000   2.30700  42.851000  17.000000  249.339000   4.000000   \n",
       "25%     0.350000   2.38750  53.845000  18.000000  259.334000   4.000000   \n",
       "50%     0.450000   2.52000  53.845000  19.000000  269.329000   4.000000   \n",
       "75%     0.545000   2.97550  53.845000  20.000000  297.597000   4.000000   \n",
       "max     0.580000   3.38300  61.319000  25.000000  357.435000   6.000000   \n",
       "\n",
       "           nOHNH      nrotb     volumen     GPCRL        ICM         KI  \\\n",
       "count  11.000000  11.000000   11.000000  11.00000  11.000000  11.000000   \n",
       "mean    1.727273   3.727273  247.141000  -0.63610  -0.739327  -0.880745   \n",
       "std     0.467099   1.737292   29.950404   0.13860   0.134983   0.200792   \n",
       "min     1.000000   2.000000  224.494000  -0.85700  -0.985400  -1.203100   \n",
       "25%     1.500000   2.000000  226.715000  -0.73925  -0.861500  -1.004250   \n",
       "50%     2.000000   4.000000  228.936000  -0.62440  -0.698400  -0.864200   \n",
       "75%     2.000000   4.500000  260.682000  -0.53820  -0.619150  -0.764400   \n",
       "max     2.000000   7.000000  314.357000  -0.42960  -0.600100  -0.547500   \n",
       "\n",
       "             NRL         PI         EI  \n",
       "count  11.000000  11.000000  11.000000  \n",
       "mean   -0.846182  -0.903091  -0.555291  \n",
       "std     0.114624   0.191559   0.037023  \n",
       "min    -1.040600  -1.115100  -0.613300  \n",
       "25%    -0.927500  -1.036750  -0.582600  \n",
       "50%    -0.854600  -0.967400  -0.563000  \n",
       "75%    -0.770950  -0.753500  -0.526050  \n",
       "max    -0.672600  -0.560300  -0.500100  "
      ]
     },
     "execution_count": 5,
     "metadata": {},
     "output_type": "execute_result"
    }
   ],
   "source": [
    "data.describe()"
   ]
  },
  {
   "cell_type": "markdown",
   "metadata": {},
   "source": [
    "### 2) Obtaining a QSAR model"
   ]
  },
  {
   "cell_type": "markdown",
   "metadata": {},
   "source": [
    "We can obtain the best linear model by forward selection as the code shown below:"
   ]
  },
  {
   "cell_type": "code",
   "execution_count": 3,
   "metadata": {},
   "outputs": [],
   "source": [
    "def forward_selected(data, response):\n",
    "    \"\"\"Linear model designed by forward selection.\n",
    "\n",
    "    Parameters:\n",
    "    -----------\n",
    "    data : pandas DataFrame with all possible predictors and response\n",
    "\n",
    "    response: string, name of response column in data\n",
    "\n",
    "    Returns:\n",
    "    --------\n",
    "    model: an \"optimal\" fitted statsmodels linear model\n",
    "           with an intercept\n",
    "           selected by forward selection\n",
    "           evaluated by adjusted R-squared\n",
    "    \"\"\"\n",
    "    remaining = set(data.columns)\n",
    "    remaining.remove(response)\n",
    "    selected = []\n",
    "    current_score, best_new_score = 0.0, 0.0\n",
    "    while remaining and current_score == best_new_score:\n",
    "        scores_with_candidates = []\n",
    "        for candidate in remaining:\n",
    "            formula = \"{} ~ {} + 1\".format(response,\n",
    "                                           ' + '.join(selected + [candidate]))\n",
    "            score = smf.ols(formula, data).fit().rsquared_adj\n",
    "            scores_with_candidates.append((score, candidate))\n",
    "        scores_with_candidates.sort()\n",
    "        best_new_score, best_candidate = scores_with_candidates.pop()\n",
    "        if current_score < best_new_score:\n",
    "            remaining.remove(best_candidate)\n",
    "            selected.append(best_candidate)\n",
    "            current_score = best_new_score\n",
    "    formula = \"{} ~ {} + 1\".format(response,\n",
    "                                   ' + '.join(selected))\n",
    "    model = smf.ols(formula, data).fit()\n",
    "    return model"
   ]
  },
  {
   "cell_type": "markdown",
   "metadata": {},
   "source": [
    "Here's how this function can be applied to our dataset on the retention constant:"
   ]
  },
  {
   "cell_type": "code",
   "execution_count": null,
   "metadata": {},
   "outputs": [],
   "source": [
    "model_Rmo = forward_selected(data, 'Rmo')\n",
    "print(model_Rmo.model.formula)\n",
    "print(\"%.4f\" % model_Rmo.rsquared_adj)"
   ]
  },
  {
   "cell_type": "markdown",
   "metadata": {},
   "source": [
    "When run, it returns the following model:\n",
    "Rmo ~ miLogP + TPSA + EI + PI + NRL + nON + nOHNH + 1\n",
    "\n",
    "R-squared_adj = 0.9890"
   ]
  },
  {
   "cell_type": "markdown",
   "metadata": {},
   "source": [
    "Let's explore some of its parameteres:"
   ]
  },
  {
   "cell_type": "code",
   "execution_count": 4,
   "metadata": {},
   "outputs": [],
   "source": [
    "model = ols(\"Rmo ~ miLogP + TPSA + EI + PI + NRL + nON + nOHNH\", data=data).fit()"
   ]
  },
  {
   "cell_type": "code",
   "execution_count": 5,
   "metadata": {},
   "outputs": [
    {
     "name": "stdout",
     "output_type": "stream",
     "text": [
      "Intercept    1.708452\n",
      "miLogP      -0.518425\n",
      "TPSA        -0.051695\n",
      "EI          -0.819801\n",
      "PI           0.581057\n",
      "NRL         -0.686309\n",
      "nON          0.349787\n",
      "nOHNH        0.490777\n",
      "dtype: float64\n"
     ]
    }
   ],
   "source": [
    "print(model.params)"
   ]
  },
  {
   "cell_type": "markdown",
   "metadata": {},
   "source": [
    "Meaning the QSAR model has the following equation:\n",
    "\n",
    "Rmo = 1.708452 - 0.518425miLog - 0.051695Tpsa - 0.819801EI + 0.581057PI - 0.686309NRL + 0.349787nON + 0.490777nOHNH"
   ]
  },
  {
   "cell_type": "code",
   "execution_count": 15,
   "metadata": {},
   "outputs": [
    {
     "name": "stdout",
     "output_type": "stream",
     "text": [
      "                            OLS Regression Results                            \n",
      "==============================================================================\n",
      "Dep. Variable:                    Rmo   R-squared:                       0.996\n",
      "Model:                            OLS   Adj. R-squared:                  0.989\n",
      "Method:                 Least Squares   F-statistic:                     151.4\n",
      "Date:                Tue, 12 Jun 2018   Prob (F-statistic):           0.000115\n",
      "Time:                        22:26:46   Log-Likelihood:                 36.039\n",
      "No. Observations:                  11   AIC:                            -58.08\n",
      "Df Residuals:                       4   BIC:                            -55.29\n",
      "Df Model:                           6                                         \n",
      "Covariance Type:            nonrobust                                         \n",
      "==============================================================================\n",
      "                 coef    std err          t      P>|t|      [0.025      0.975]\n",
      "------------------------------------------------------------------------------\n",
      "Intercept      1.7085      0.133     12.840      0.000       1.339       2.078\n",
      "miLogP        -0.5184      0.023    -22.435      0.000      -0.583      -0.454\n",
      "TPSA          -0.0517      0.005    -11.312      0.000      -0.064      -0.039\n",
      "EI            -0.8198      0.200     -4.096      0.015      -1.375      -0.264\n",
      "PI             0.5811      0.109      5.338      0.006       0.279       0.883\n",
      "NRL           -0.6863      0.140     -4.898      0.008      -1.075      -0.297\n",
      "nON            0.3498      0.031     11.242      0.000       0.263       0.436\n",
      "nOHNH          0.4908      0.038     12.767      0.000       0.384       0.598\n",
      "==============================================================================\n",
      "Omnibus:                        0.067   Durbin-Watson:                   1.493\n",
      "Prob(Omnibus):                  0.967   Jarque-Bera (JB):                0.111\n",
      "Skew:                           0.056   Prob(JB):                        0.946\n",
      "Kurtosis:                       2.522   Cond. No.                     2.65e+17\n",
      "==============================================================================\n",
      "\n",
      "Warnings:\n",
      "[1] Standard Errors assume that the covariance matrix of the errors is correctly specified.\n",
      "[2] The smallest eigenvalue is 4.4e-31. This might indicate that there are\n",
      "strong multicollinearity problems or that the design matrix is singular.\n"
     ]
    }
   ],
   "source": [
    "print(model.summary())"
   ]
  },
  {
   "cell_type": "markdown",
   "metadata": {},
   "source": [
    "We can calculate some additional statistical parameters like:\n",
    "* [PRESS](https://en.wikipedia.org/wiki/PRESS_statistic) - Predicted residual error sum of squares\n",
    "* [SSY](http://itfeature.com/statistics/sum-of-squared-deviation) - Sum of squares of deviation of the experimental values from their mean\n",
    "* Q-squared (Cross-validation squared correlation coefficient) = 1 - PRESS/SSY."
   ]
  },
  {
   "cell_type": "markdown",
   "metadata": {},
   "source": [
    "We will create new columns in our dataset by using the bellow-mentioned functions in order to calculate the additional parameters"
   ]
  },
  {
   "cell_type": "code",
   "execution_count": 5,
   "metadata": {},
   "outputs": [],
   "source": [
    "def equation(a, b, c, d, e, f, g):\n",
    "    return pd.Series([1.708452 - 0.518425*a - 0.051695*b - 0.819801*c + 0.581057*d - 0.686309*e + 0.349787*f + 0.490777*g])\n",
    "def subtraction(a, b):\n",
    "    return pd.Series([a - b])\n",
    "def square(a):\n",
    "    return pd.Series([a**2])"
   ]
  },
  {
   "cell_type": "code",
   "execution_count": 6,
   "metadata": {},
   "outputs": [],
   "source": [
    "data[['Rmo_model']] = data.apply(lambda x: equation(x['miLogP'], x['TPSA'], x['EI'], x['PI'], x['NRL'], x['nON'], x['nOHNH']), axis=1)\n",
    "data[['Rmo-Rmo_model']] = data.apply(lambda x: subtraction(x['Rmo_model'], x['Rmo'],), axis=1)\n",
    "data[['Rmo-Rmo_model_square']] = data.apply(lambda x: square(x['Rmo-Rmo_model']), axis=1)\n",
    "data[['Rmo_substract']] = data.apply(lambda x: subtraction(x['Rmo'], data[\"Rmo\"].mean()), axis=1)\n",
    "data[['Rmo_substract_square']] = data.apply(lambda x: square(x['Rmo_substract']), axis=1)"
   ]
  },
  {
   "cell_type": "markdown",
   "metadata": {},
   "source": [
    "Let's review the values of the new columns:"
   ]
  },
  {
   "cell_type": "code",
   "execution_count": 8,
   "metadata": {},
   "outputs": [
    {
     "data": {
      "text/html": [
       "<div>\n",
       "<style scoped>\n",
       "    .dataframe tbody tr th:only-of-type {\n",
       "        vertical-align: middle;\n",
       "    }\n",
       "\n",
       "    .dataframe tbody tr th {\n",
       "        vertical-align: top;\n",
       "    }\n",
       "\n",
       "    .dataframe thead th {\n",
       "        text-align: right;\n",
       "    }\n",
       "</style>\n",
       "<table border=\"1\" class=\"dataframe\">\n",
       "  <thead>\n",
       "    <tr style=\"text-align: right;\">\n",
       "      <th></th>\n",
       "      <th>Rmo_model</th>\n",
       "      <th>Rmo-Rmo_model</th>\n",
       "      <th>Rmo-Rmo_model_square</th>\n",
       "      <th>Rmo_substract</th>\n",
       "      <th>Rmo_substract_square</th>\n",
       "    </tr>\n",
       "  </thead>\n",
       "  <tbody>\n",
       "    <tr>\n",
       "      <th>0</th>\n",
       "      <td>0.528248</td>\n",
       "      <td>-0.011752</td>\n",
       "      <td>1.381065e-04</td>\n",
       "      <td>0.118182</td>\n",
       "      <td>0.013967</td>\n",
       "    </tr>\n",
       "    <tr>\n",
       "      <th>1</th>\n",
       "      <td>0.551543</td>\n",
       "      <td>0.001543</td>\n",
       "      <td>2.380838e-06</td>\n",
       "      <td>0.128182</td>\n",
       "      <td>0.016431</td>\n",
       "    </tr>\n",
       "    <tr>\n",
       "      <th>2</th>\n",
       "      <td>0.571018</td>\n",
       "      <td>0.001018</td>\n",
       "      <td>1.036603e-06</td>\n",
       "      <td>0.148182</td>\n",
       "      <td>0.021958</td>\n",
       "    </tr>\n",
       "    <tr>\n",
       "      <th>3</th>\n",
       "      <td>0.148838</td>\n",
       "      <td>-0.001162</td>\n",
       "      <td>1.349648e-06</td>\n",
       "      <td>-0.271818</td>\n",
       "      <td>0.073885</td>\n",
       "    </tr>\n",
       "    <tr>\n",
       "      <th>4</th>\n",
       "      <td>0.581050</td>\n",
       "      <td>0.001050</td>\n",
       "      <td>1.102936e-06</td>\n",
       "      <td>0.158182</td>\n",
       "      <td>0.025021</td>\n",
       "    </tr>\n",
       "    <tr>\n",
       "      <th>5</th>\n",
       "      <td>0.308199</td>\n",
       "      <td>0.008199</td>\n",
       "      <td>6.721851e-05</td>\n",
       "      <td>-0.121818</td>\n",
       "      <td>0.014840</td>\n",
       "    </tr>\n",
       "    <tr>\n",
       "      <th>6</th>\n",
       "      <td>0.449990</td>\n",
       "      <td>-0.000010</td>\n",
       "      <td>1.011634e-10</td>\n",
       "      <td>0.028182</td>\n",
       "      <td>0.000794</td>\n",
       "    </tr>\n",
       "    <tr>\n",
       "      <th>7</th>\n",
       "      <td>0.417084</td>\n",
       "      <td>0.017084</td>\n",
       "      <td>2.918655e-04</td>\n",
       "      <td>-0.021818</td>\n",
       "      <td>0.000476</td>\n",
       "    </tr>\n",
       "    <tr>\n",
       "      <th>8</th>\n",
       "      <td>0.428676</td>\n",
       "      <td>0.008676</td>\n",
       "      <td>7.527053e-05</td>\n",
       "      <td>-0.001818</td>\n",
       "      <td>0.000003</td>\n",
       "    </tr>\n",
       "    <tr>\n",
       "      <th>9</th>\n",
       "      <td>0.443478</td>\n",
       "      <td>-0.016522</td>\n",
       "      <td>2.729926e-04</td>\n",
       "      <td>0.038182</td>\n",
       "      <td>0.001458</td>\n",
       "    </tr>\n",
       "    <tr>\n",
       "      <th>10</th>\n",
       "      <td>0.211789</td>\n",
       "      <td>-0.008211</td>\n",
       "      <td>6.741915e-05</td>\n",
       "      <td>-0.201818</td>\n",
       "      <td>0.040731</td>\n",
       "    </tr>\n",
       "  </tbody>\n",
       "</table>\n",
       "</div>"
      ],
      "text/plain": [
       "    Rmo_model  Rmo-Rmo_model  Rmo-Rmo_model_square  Rmo_substract  \\\n",
       "0    0.528248      -0.011752          1.381065e-04       0.118182   \n",
       "1    0.551543       0.001543          2.380838e-06       0.128182   \n",
       "2    0.571018       0.001018          1.036603e-06       0.148182   \n",
       "3    0.148838      -0.001162          1.349648e-06      -0.271818   \n",
       "4    0.581050       0.001050          1.102936e-06       0.158182   \n",
       "5    0.308199       0.008199          6.721851e-05      -0.121818   \n",
       "6    0.449990      -0.000010          1.011634e-10       0.028182   \n",
       "7    0.417084       0.017084          2.918655e-04      -0.021818   \n",
       "8    0.428676       0.008676          7.527053e-05      -0.001818   \n",
       "9    0.443478      -0.016522          2.729926e-04       0.038182   \n",
       "10   0.211789      -0.008211          6.741915e-05      -0.201818   \n",
       "\n",
       "    Rmo_substract_square  \n",
       "0               0.013967  \n",
       "1               0.016431  \n",
       "2               0.021958  \n",
       "3               0.073885  \n",
       "4               0.025021  \n",
       "5               0.014840  \n",
       "6               0.000794  \n",
       "7               0.000476  \n",
       "8               0.000003  \n",
       "9               0.001458  \n",
       "10              0.040731  "
      ]
     },
     "execution_count": 8,
     "metadata": {},
     "output_type": "execute_result"
    }
   ],
   "source": [
    "data.iloc[0:,15:21]"
   ]
  },
  {
   "cell_type": "code",
   "execution_count": 9,
   "metadata": {},
   "outputs": [],
   "source": [
    "PRESS = data['Rmo-Rmo_model_square'].values.sum()\n",
    "SSY = data['Rmo_substract_square'].values.sum()\n",
    "PRESS_SSY = PRESS/SSY\n",
    "Q2 = 1 - PRESS_SSY"
   ]
  },
  {
   "cell_type": "code",
   "execution_count": 10,
   "metadata": {},
   "outputs": [
    {
     "name": "stdout",
     "output_type": "stream",
     "text": [
      "The values of the additional statistical parameters are:\n",
      "PRESS = 0.0009\n",
      "SSY = 0.2096\n",
      "PRESS_SSY = 0.0044\n",
      "Q2 = 0.9956\n"
     ]
    }
   ],
   "source": [
    "print('The values of the additional statistical parameters are:\\n' + 'PRESS = ' + str(\"%.4f\" % PRESS) + '\\nSSY = ' + str(\"%.4f\" % SSY) + '\\nPRESS_SSY = ' + str(\"%.4f\" % PRESS_SSY) + '\\nQ2 = ' + str(\"%.4f\" % Q2))"
   ]
  },
  {
   "cell_type": "markdown",
   "metadata": {},
   "source": [
    "Visualising the correlation between the experimental Rmo values and the predicted (modeled) Rmo values can be done the following way:"
   ]
  },
  {
   "cell_type": "code",
   "execution_count": 10,
   "metadata": {},
   "outputs": [
    {
     "data": {
      "text/plain": [
       "Text(0,0.5,'Rmo_model')"
      ]
     },
     "execution_count": 10,
     "metadata": {},
     "output_type": "execute_result"
    },
    {
     "data": {
      "image/png": "[encoded data removed]",
      "text/plain": [
       "<Figure size 432x288 with 1 Axes>"
      ]
     },
     "metadata": {},
     "output_type": "display_data"
    }
   ],
   "source": [
    "x = data['Rmo']\n",
    "y = data['Rmo_model']\n",
    "plt.scatter(x, y)\n",
    "\n",
    "z = np.polyfit(x, y, 1)\n",
    "p = np.poly1d(z)\n",
    "plot = plt.plot(x,p(x),\"r--\")\n",
    "\n",
    "plt.xlabel(\"Rmo\")\n",
    "plt.ylabel(\"Rmo_model\")"
   ]
  },
  {
   "cell_type": "code",
   "execution_count": 8,
   "metadata": {},
   "outputs": [],
   "source": [
    "R_value = smf.OLS(x, y).fit()"
   ]
  },
  {
   "cell_type": "code",
   "execution_count": 9,
   "metadata": {},
   "outputs": [
    {
     "data": {
      "text/plain": [
       "0.9995759911534654"
      ]
     },
     "execution_count": 9,
     "metadata": {},
     "output_type": "execute_result"
    }
   ],
   "source": [
    "R_value.rsquared"
   ]
  }
 ],
 "metadata": {
  "kernelspec": {
   "display_name": "Python 3",
   "language": "python",
   "name": "python3"
  },
  "language_info": {
   "codemirror_mode": {
    "name": "ipython",
    "version": 3
   },
   "file_extension": ".py",
   "mimetype": "text/x-python",
   "name": "python",
   "nbconvert_exporter": "python",
   "pygments_lexer": "ipython3",
   "version": "3.6.4"
  }
 },
 "nbformat": 4,
 "nbformat_minor": 2
}
